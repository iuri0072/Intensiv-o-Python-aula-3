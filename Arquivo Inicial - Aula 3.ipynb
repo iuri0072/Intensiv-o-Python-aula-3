{
 "cells": [
  {
   "cell_type": "markdown",
   "metadata": {},
   "source": [
    "# Automação Web e Busca de Informações com Python\n",
    "\n",
    "#### Desafio: \n",
    "\n",
    "Trabalhamos em uma importadora e o preço dos nossos produtos é vinculado a cotação de:\n",
    "- Dólar\n",
    "- Euro\n",
    "- Ouro\n",
    "\n",
    "Precisamos pegar na internet, de forma automática, a cotação desses 3 itens e saber quanto devemos cobrar pelos nossos produtos, considerando uma margem de contribuição que temos na nossa base de dados.\n",
    "\n",
    "Base de Dados: https://drive.google.com/drive/folders/1KmAdo593nD8J9QBaZxPOG1yxHZua4Rtv?usp=sharing\n",
    "\n",
    "Para isso, vamos criar uma automação web:\n",
    "\n",
    "- Usaremos o selenium\n",
    "- Importante: baixar o webdriver"
   ]
  },
  {
   "cell_type": "code",
   "execution_count": null,
   "metadata": {},
   "outputs": [],
   "source": [
    "# Passo 1: Pegar Cotação de dólar/euro/ouro\n",
    "# Passo 2: Importar base de dados e atualizar base\n",
    "# Passo 3: Exportar base de dados atualizada"
   ]
  },
  {
   "cell_type": "code",
   "execution_count": 4,
   "metadata": {},
   "outputs": [],
   "source": [
    "from selenium import webdriver\n",
    "from selenium.webdriver.common.keys import Keys\n",
    "\n",
    "navegador = webdriver.Chrome()\n",
    "\n",
    "#Dólar\n",
    "navegador.get(\"https://www.google.com/\")\n",
    "navegador.find_element('xpath', '/html/body/div[1]/div[3]/form/div[1]/div[1]/div[1]/div/div[2]/input').send_keys(\"cotação do dólar\")\n",
    "navegador.find_element('xpath', '/html/body/div[1]/div[3]/form/div[1]/div[1]/div[1]/div/div[2]/input').send_keys(Keys.ENTER)\n",
    "cotacao_dolar = navegador.find_element('xpath', '//*[@id=\"knowledge-currency__updatable-data-column\"]/div[1]/div[2]/span[1]').get_attribute('data-value')\n",
    "\n",
    "#Euro\n",
    "navegador.get(\"https://www.google.com/\")\n",
    "navegador.find_element('xpath', '/html/body/div[1]/div[3]/form/div[1]/div[1]/div[1]/div/div[2]/input').send_keys(\"cotação do euro\")\n",
    "navegador.find_element('xpath', '/html/body/div[1]/div[3]/form/div[1]/div[1]/div[1]/div/div[2]/input').send_keys(Keys.ENTER)\n",
    "cotacao_euro = navegador.find_element('xpath', '//*[@id=\"knowledge-currency__updatable-data-column\"]/div[1]/div[2]/span[1]').get_attribute('data-value')\n",
    "\n",
    "#Ouro\n",
    "navegador.get(\"https://www.melhorcambio.com/ouro-hoje\")\n",
    "cotacao_ouro = navegador.find_element('xpath', '//*[@id=\"comercial\"]').get_attribute('value')\n",
    "cotacao_ouro = cotacao_ouro.replace(\",\" , \".\")\n",
    "\n",
    "\n",
    "navegador.quit()\n"
   ]
  },
  {
   "cell_type": "code",
   "execution_count": 3,
   "metadata": {},
   "outputs": [
    {
     "name": "stdout",
     "output_type": "stream",
     "text": [
      "5.191\n",
      "5.637\n",
      "319.24\n"
     ]
    }
   ],
   "source": [
    "print(cotacao_dolar)\n",
    "print(cotacao_euro)\n",
    "print(cotacao_ouro)"
   ]
  },
  {
   "cell_type": "markdown",
   "metadata": {},
   "source": [
    "### Agora vamos atualizar a nossa base de preços com as novas cotações"
   ]
  },
  {
   "cell_type": "markdown",
   "metadata": {},
   "source": [
    "- Importando a base de dados"
   ]
  },
  {
   "cell_type": "code",
   "execution_count": 2,
   "metadata": {
    "scrolled": true
   },
   "outputs": [
    {
     "data": {
      "text/html": [
       "<div>\n",
       "<style scoped>\n",
       "    .dataframe tbody tr th:only-of-type {\n",
       "        vertical-align: middle;\n",
       "    }\n",
       "\n",
       "    .dataframe tbody tr th {\n",
       "        vertical-align: top;\n",
       "    }\n",
       "\n",
       "    .dataframe thead th {\n",
       "        text-align: right;\n",
       "    }\n",
       "</style>\n",
       "<table border=\"1\" class=\"dataframe\">\n",
       "  <thead>\n",
       "    <tr style=\"text-align: right;\">\n",
       "      <th></th>\n",
       "      <th>Produtos</th>\n",
       "      <th>Preço Original</th>\n",
       "      <th>Moeda</th>\n",
       "      <th>Cotação</th>\n",
       "      <th>Preço de Compra</th>\n",
       "      <th>Margem</th>\n",
       "      <th>Preço de Venda</th>\n",
       "    </tr>\n",
       "  </thead>\n",
       "  <tbody>\n",
       "    <tr>\n",
       "      <th>0</th>\n",
       "      <td>Câmera Canon</td>\n",
       "      <td>999.99</td>\n",
       "      <td>Dólar</td>\n",
       "      <td>5</td>\n",
       "      <td>4999.95</td>\n",
       "      <td>1.40</td>\n",
       "      <td>6999.930</td>\n",
       "    </tr>\n",
       "    <tr>\n",
       "      <th>1</th>\n",
       "      <td>Carro Renault</td>\n",
       "      <td>4500.00</td>\n",
       "      <td>Euro</td>\n",
       "      <td>6</td>\n",
       "      <td>27000.00</td>\n",
       "      <td>2.00</td>\n",
       "      <td>54000.000</td>\n",
       "    </tr>\n",
       "    <tr>\n",
       "      <th>2</th>\n",
       "      <td>Notebook Dell</td>\n",
       "      <td>899.99</td>\n",
       "      <td>Dólar</td>\n",
       "      <td>5</td>\n",
       "      <td>4499.95</td>\n",
       "      <td>1.70</td>\n",
       "      <td>7649.915</td>\n",
       "    </tr>\n",
       "    <tr>\n",
       "      <th>3</th>\n",
       "      <td>IPhone</td>\n",
       "      <td>799.00</td>\n",
       "      <td>Dólar</td>\n",
       "      <td>5</td>\n",
       "      <td>3995.00</td>\n",
       "      <td>1.70</td>\n",
       "      <td>6791.500</td>\n",
       "    </tr>\n",
       "    <tr>\n",
       "      <th>4</th>\n",
       "      <td>Carro Fiat</td>\n",
       "      <td>3000.00</td>\n",
       "      <td>Euro</td>\n",
       "      <td>6</td>\n",
       "      <td>18000.00</td>\n",
       "      <td>1.90</td>\n",
       "      <td>34200.000</td>\n",
       "    </tr>\n",
       "    <tr>\n",
       "      <th>5</th>\n",
       "      <td>Celular Xiaomi</td>\n",
       "      <td>480.48</td>\n",
       "      <td>Dólar</td>\n",
       "      <td>5</td>\n",
       "      <td>2402.40</td>\n",
       "      <td>2.00</td>\n",
       "      <td>4804.800</td>\n",
       "    </tr>\n",
       "    <tr>\n",
       "      <th>6</th>\n",
       "      <td>Joia 20g</td>\n",
       "      <td>20.00</td>\n",
       "      <td>Ouro</td>\n",
       "      <td>350</td>\n",
       "      <td>7000.00</td>\n",
       "      <td>1.15</td>\n",
       "      <td>8050.000</td>\n",
       "    </tr>\n",
       "  </tbody>\n",
       "</table>\n",
       "</div>"
      ],
      "text/plain": [
       "         Produtos  Preço Original  Moeda  Cotação  Preço de Compra  Margem  \\\n",
       "0    Câmera Canon          999.99  Dólar        5          4999.95    1.40   \n",
       "1   Carro Renault         4500.00   Euro        6         27000.00    2.00   \n",
       "2   Notebook Dell          899.99  Dólar        5          4499.95    1.70   \n",
       "3          IPhone          799.00  Dólar        5          3995.00    1.70   \n",
       "4      Carro Fiat         3000.00   Euro        6         18000.00    1.90   \n",
       "5  Celular Xiaomi          480.48  Dólar        5          2402.40    2.00   \n",
       "6        Joia 20g           20.00   Ouro      350          7000.00    1.15   \n",
       "\n",
       "   Preço de Venda  \n",
       "0        6999.930  \n",
       "1       54000.000  \n",
       "2        7649.915  \n",
       "3        6791.500  \n",
       "4       34200.000  \n",
       "5        4804.800  \n",
       "6        8050.000  "
      ]
     },
     "metadata": {},
     "output_type": "display_data"
    }
   ],
   "source": [
    "import pandas as pd\n",
    "\n",
    "tab = pd.read_excel(\"Produtos.xlsx\")\n",
    "display(tab)"
   ]
  },
  {
   "cell_type": "markdown",
   "metadata": {},
   "source": [
    "- Atualizando os preços e o cálculo do Preço Final"
   ]
  },
  {
   "cell_type": "code",
   "execution_count": 16,
   "metadata": {
    "scrolled": true
   },
   "outputs": [
    {
     "data": {
      "text/html": [
       "<div>\n",
       "<style scoped>\n",
       "    .dataframe tbody tr th:only-of-type {\n",
       "        vertical-align: middle;\n",
       "    }\n",
       "\n",
       "    .dataframe tbody tr th {\n",
       "        vertical-align: top;\n",
       "    }\n",
       "\n",
       "    .dataframe thead th {\n",
       "        text-align: right;\n",
       "    }\n",
       "</style>\n",
       "<table border=\"1\" class=\"dataframe\">\n",
       "  <thead>\n",
       "    <tr style=\"text-align: right;\">\n",
       "      <th></th>\n",
       "      <th>Produtos</th>\n",
       "      <th>Preço Original</th>\n",
       "      <th>Moeda</th>\n",
       "      <th>Cotação</th>\n",
       "      <th>Preço de Compra</th>\n",
       "      <th>Margem</th>\n",
       "      <th>Preço de Venda</th>\n",
       "    </tr>\n",
       "  </thead>\n",
       "  <tbody>\n",
       "    <tr>\n",
       "      <th>0</th>\n",
       "      <td>Câmera Canon</td>\n",
       "      <td>999.99</td>\n",
       "      <td>Dólar</td>\n",
       "      <td>5.0832</td>\n",
       "      <td>5083.149168</td>\n",
       "      <td>1.40</td>\n",
       "      <td>7116.408835</td>\n",
       "    </tr>\n",
       "    <tr>\n",
       "      <th>1</th>\n",
       "      <td>Carro Renault</td>\n",
       "      <td>4500.00</td>\n",
       "      <td>Euro</td>\n",
       "      <td>5.5154</td>\n",
       "      <td>24819.300000</td>\n",
       "      <td>2.00</td>\n",
       "      <td>49638.600000</td>\n",
       "    </tr>\n",
       "    <tr>\n",
       "      <th>2</th>\n",
       "      <td>Notebook Dell</td>\n",
       "      <td>899.99</td>\n",
       "      <td>Dólar</td>\n",
       "      <td>5.0832</td>\n",
       "      <td>4574.829168</td>\n",
       "      <td>1.70</td>\n",
       "      <td>7777.209586</td>\n",
       "    </tr>\n",
       "    <tr>\n",
       "      <th>3</th>\n",
       "      <td>IPhone</td>\n",
       "      <td>799.00</td>\n",
       "      <td>Dólar</td>\n",
       "      <td>5.0832</td>\n",
       "      <td>4061.476800</td>\n",
       "      <td>1.70</td>\n",
       "      <td>6904.510560</td>\n",
       "    </tr>\n",
       "    <tr>\n",
       "      <th>4</th>\n",
       "      <td>Carro Fiat</td>\n",
       "      <td>3000.00</td>\n",
       "      <td>Euro</td>\n",
       "      <td>5.5154</td>\n",
       "      <td>16546.200000</td>\n",
       "      <td>1.90</td>\n",
       "      <td>31437.780000</td>\n",
       "    </tr>\n",
       "    <tr>\n",
       "      <th>5</th>\n",
       "      <td>Celular Xiaomi</td>\n",
       "      <td>480.48</td>\n",
       "      <td>Dólar</td>\n",
       "      <td>5.0832</td>\n",
       "      <td>2442.375936</td>\n",
       "      <td>2.00</td>\n",
       "      <td>4884.751872</td>\n",
       "    </tr>\n",
       "    <tr>\n",
       "      <th>6</th>\n",
       "      <td>Joia 20g</td>\n",
       "      <td>20.00</td>\n",
       "      <td>Ouro</td>\n",
       "      <td>310.7700</td>\n",
       "      <td>6215.400000</td>\n",
       "      <td>1.15</td>\n",
       "      <td>7147.710000</td>\n",
       "    </tr>\n",
       "  </tbody>\n",
       "</table>\n",
       "</div>"
      ],
      "text/plain": [
       "         Produtos  Preço Original  Moeda   Cotação  Preço de Compra  Margem  \\\n",
       "0    Câmera Canon          999.99  Dólar    5.0832      5083.149168    1.40   \n",
       "1   Carro Renault         4500.00   Euro    5.5154     24819.300000    2.00   \n",
       "2   Notebook Dell          899.99  Dólar    5.0832      4574.829168    1.70   \n",
       "3          IPhone          799.00  Dólar    5.0832      4061.476800    1.70   \n",
       "4      Carro Fiat         3000.00   Euro    5.5154     16546.200000    1.90   \n",
       "5  Celular Xiaomi          480.48  Dólar    5.0832      2442.375936    2.00   \n",
       "6        Joia 20g           20.00   Ouro  310.7700      6215.400000    1.15   \n",
       "\n",
       "   Preço de Venda  \n",
       "0     7116.408835  \n",
       "1    49638.600000  \n",
       "2     7777.209586  \n",
       "3     6904.510560  \n",
       "4    31437.780000  \n",
       "5     4884.751872  \n",
       "6     7147.710000  "
      ]
     },
     "metadata": {},
     "output_type": "display_data"
    }
   ],
   "source": [
    "tab.loc[tab[\"Moeda\"] == \"Dólar\", \"Cotação\"] = float(cotacao_dolar)\n",
    "tab.loc[tab[\"Moeda\"] == \"Euro\", \"Cotação\"] = float(cotacao_euro)\n",
    "tab.loc[tab[\"Moeda\"] == \"Ouro\", \"Cotação\"] = float(cotacao_ouro)\n",
    "\n",
    "tab[\"Preço de Compra\"] = tab[\"Cotação\"] * tab[\"Preço Original\"]\n",
    "tab[\"Preço de Venda\"] = tab[\"Preço de Compra\"] * tab[\"Margem\"]\n",
    "\n",
    "display(tab)"
   ]
  },
  {
   "cell_type": "markdown",
   "metadata": {},
   "source": [
    "### Agora vamos exportar a nova base de preços atualizada"
   ]
  },
  {
   "cell_type": "code",
   "execution_count": 17,
   "metadata": {},
   "outputs": [],
   "source": [
    "tab.to_excel(\"Produtos Novos.xlsx\", index = False)"
   ]
  },
  {
   "cell_type": "code",
   "execution_count": null,
   "metadata": {},
   "outputs": [],
   "source": []
  }
 ],
 "metadata": {
  "kernelspec": {
   "display_name": "Python 3 (ipykernel)",
   "language": "python",
   "name": "python3"
  },
  "language_info": {
   "codemirror_mode": {
    "name": "ipython",
    "version": 3
   },
   "file_extension": ".py",
   "mimetype": "text/x-python",
   "name": "python",
   "nbconvert_exporter": "python",
   "pygments_lexer": "ipython3",
   "version": "3.9.13"
  }
 },
 "nbformat": 4,
 "nbformat_minor": 4
}
